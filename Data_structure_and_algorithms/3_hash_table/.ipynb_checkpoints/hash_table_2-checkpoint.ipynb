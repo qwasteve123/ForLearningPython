{
 "cells": [
  {
   "cell_type": "code",
   "execution_count": 14,
   "id": "4913cf32",
   "metadata": {},
   "outputs": [],
   "source": [
    "def get_hash(key):\n",
    "    h = 0\n",
    "    for char in key:\n",
    "        h += ord(char)\n",
    "    return h%100"
   ]
  },
  {
   "cell_type": "code",
   "execution_count": 15,
   "id": "e0e08f6f",
   "metadata": {},
   "outputs": [
    {
     "data": {
      "text/plain": [
       "61"
      ]
     },
     "execution_count": 15,
     "metadata": {},
     "output_type": "execute_result"
    }
   ],
   "source": [
    "get_hash('march 28')"
   ]
  },
  {
   "cell_type": "code",
   "execution_count": 25,
   "id": "9d95ca85",
   "metadata": {},
   "outputs": [],
   "source": [
    "class HashTable:\n",
    "    def __inti__(self):\n",
    "        self.MAX = 100\n",
    "        self.arr = [None for i in range(self.MAX)]\n",
    "        print('a')\n",
    "        \n",
    "    def get_hash(self,key):\n",
    "        h=0\n",
    "        for char in key:\n",
    "            h+= ord(char)\n",
    "        return h% self.MAX"
   ]
  },
  {
   "cell_type": "code",
   "execution_count": 26,
   "id": "35aa82e9",
   "metadata": {
    "scrolled": true
   },
   "outputs": [],
   "source": [
    "t = HashTable()\n",
    "# t.get_hash('march 6')"
   ]
  }
 ],
 "metadata": {
  "kernelspec": {
   "display_name": "Python 3 (ipykernel)",
   "language": "python",
   "name": "python3"
  },
  "language_info": {
   "codemirror_mode": {
    "name": "ipython",
    "version": 3
   },
   "file_extension": ".py",
   "mimetype": "text/x-python",
   "name": "python",
   "nbconvert_exporter": "python",
   "pygments_lexer": "ipython3",
   "version": "3.10.0"
  }
 },
 "nbformat": 4,
 "nbformat_minor": 5
}
