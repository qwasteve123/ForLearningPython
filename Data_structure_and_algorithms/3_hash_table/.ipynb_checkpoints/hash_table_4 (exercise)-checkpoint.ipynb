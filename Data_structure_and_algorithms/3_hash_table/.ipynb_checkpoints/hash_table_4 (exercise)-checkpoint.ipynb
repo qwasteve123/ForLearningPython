{
 "cells": [
  {
   "cell_type": "code",
   "execution_count": 5,
   "id": "bdbd1b0b",
   "metadata": {},
   "outputs": [
    {
     "data": {
      "text/plain": [
       "[('date', 'temperature(F)\\n'),\n",
       " ('Jan 1', '27\\n'),\n",
       " ('Jan 2', '31\\n'),\n",
       " ('Jan 3', '23\\n'),\n",
       " ('Jan 4', '34\\n'),\n",
       " ('Jan 5', '37\\n'),\n",
       " ('Jan 6', '38\\n'),\n",
       " ('Jan 7', '29\\n'),\n",
       " ('Jan 8', '30\\n'),\n",
       " ('Jan 9', '35\\n'),\n",
       " ('Jan 10', '30')]"
      ]
     },
     "execution_count": 5,
     "metadata": {},
     "output_type": "execute_result"
    }
   ],
   "source": [
    "month_temp = []\n",
    "with open('nyc_weather.csv','r') as f:\n",
    "    for line in f:\n",
    "        token = line.split(',')\n",
    "        date = token[0]\n",
    "        temp = token[1]\n",
    "        month_temp.append([date,temp])\n",
    "month_temp"
   ]
  }
 ],
 "metadata": {
  "kernelspec": {
   "display_name": "Python 3 (ipykernel)",
   "language": "python",
   "name": "python3"
  },
  "language_info": {
   "codemirror_mode": {
    "name": "ipython",
    "version": 3
   },
   "file_extension": ".py",
   "mimetype": "text/x-python",
   "name": "python",
   "nbconvert_exporter": "python",
   "pygments_lexer": "ipython3",
   "version": "3.10.0"
  }
 },
 "nbformat": 4,
 "nbformat_minor": 5
}
