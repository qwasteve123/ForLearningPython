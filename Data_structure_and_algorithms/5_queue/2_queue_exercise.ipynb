{
 "cells": [
  {
   "cell_type": "code",
   "execution_count": 1,
   "id": "8b6781e9",
   "metadata": {},
   "outputs": [],
   "source": [
    "\n",
    "from collections import deque\n",
    "\n",
    "class Queue:\n",
    "    \n",
    "    def __init__(self):\n",
    "        self.buffer = deque()\n",
    "        \n",
    "    def enqueue(self,val):\n",
    "        self.budder.appendleft(val)\n",
    "        \n",
    "    def dequeue(self):\n",
    "        return self.buffer.pop()\n",
    "    \n",
    "    def is_empty(self):\n",
    "        return len(self.buffer) == 0\n",
    "    \n",
    "    def size(self):\n",
    "        return len(self.buffer)"
   ]
  },
  {
   "cell_type": "code",
   "execution_count": 3,
   "id": "0411c4c9",
   "metadata": {},
   "outputs": [],
   "source": [
    "import threading\n",
    "import time as t\n",
    "\n",
    "q = Queue()\n",
    "\n",
    "orders = ['pizza','samosa','pasta','biryani','burger']\n",
    "\n",
    "def place_order(orders):\n",
    "    for order in orders:\n",
    "        q.enqueue(order)\n",
    "        t.sleep(0.5)\n",
    "\n",
    "def serve_order():\n",
    "    for item in q.buffer:\n",
    "        print(q.dequeue())\n",
    "        t.sleep(2)\n",
    "    \n",
    "t1 = threading.Thread(target=place_order,args=(orders,))\n",
    "t.sleep(1)\n",
    "t2 = threading.Thread(target=serve_order)"
   ]
  }
 ],
 "metadata": {
  "kernelspec": {
   "display_name": "Python 3 (ipykernel)",
   "language": "python",
   "name": "python3"
  },
  "language_info": {
   "codemirror_mode": {
    "name": "ipython",
    "version": 3
   },
   "file_extension": ".py",
   "mimetype": "text/x-python",
   "name": "python",
   "nbconvert_exporter": "python",
   "pygments_lexer": "ipython3",
   "version": "3.10.0"
  }
 },
 "nbformat": 4,
 "nbformat_minor": 5
}
