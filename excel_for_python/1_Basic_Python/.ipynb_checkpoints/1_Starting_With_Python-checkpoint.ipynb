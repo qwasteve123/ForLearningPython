{
 "cells": [
  {
   "cell_type": "markdown",
   "id": "432915ab",
   "metadata": {},
   "source": [
    "## Numeric Type\n",
    "1. int - Integer ---4\n",
    "2. float - with decimal ---4.4"
   ]
  },
  {
   "cell_type": "code",
   "execution_count": 2,
   "id": "3968a316",
   "metadata": {},
   "outputs": [
    {
     "data": {
      "text/plain": [
       "int"
      ]
     },
     "execution_count": 2,
     "metadata": {},
     "output_type": "execute_result"
    }
   ],
   "source": [
    "type(4)"
   ]
  },
  {
   "cell_type": "code",
   "execution_count": 3,
   "id": "752ebce6",
   "metadata": {},
   "outputs": [
    {
     "data": {
      "text/plain": [
       "float"
      ]
     },
     "execution_count": 3,
     "metadata": {},
     "output_type": "execute_result"
    }
   ],
   "source": [
    "type(4.4)"
   ]
  },
  {
   "cell_type": "code",
   "execution_count": 5,
   "id": "398f749d",
   "metadata": {},
   "outputs": [
    {
     "data": {
      "text/plain": [
       "float"
      ]
     },
     "execution_count": 5,
     "metadata": {},
     "output_type": "execute_result"
    }
   ],
   "source": [
    "type(4.)"
   ]
  },
  {
   "cell_type": "code",
   "execution_count": 6,
   "id": "43f3a5ab",
   "metadata": {},
   "outputs": [
    {
     "data": {
      "text/plain": [
       "4"
      ]
     },
     "execution_count": 6,
     "metadata": {},
     "output_type": "execute_result"
    }
   ],
   "source": [
    "int(4.9)"
   ]
  },
  {
   "cell_type": "code",
   "execution_count": 7,
   "id": "e571053c",
   "metadata": {},
   "outputs": [
    {
     "data": {
      "text/plain": [
       "4.0"
      ]
     },
     "execution_count": 7,
     "metadata": {},
     "output_type": "execute_result"
    }
   ],
   "source": [
    "float(4)"
   ]
  },
  {
   "cell_type": "markdown",
   "id": "2157a91d",
   "metadata": {},
   "source": [
    "## Operator\n",
    "### Arithmetric Operators\n",
    "1. add --- +\n",
    "2. subtract --- -\n",
    "3. multiply --- *\n",
    "4. divide --- /\n",
    "5. power --- **\n",
    "6. modulus --- %\n",
    "7. floor division --- //\n",
    "\n",
    "### Assignment Operators\n",
    "1. equal --- =\n",
    "2. increment --- += / -= / *= / /= / %= / //= / **= / &= / |= / ^= / >>= / <<=\n",
    "\n",
    "### Identity Operators\n",
    "1. is / is not\n",
    "\n",
    "### Membership Operators\n",
    "1. in/ not in\n",
    "\n",
    "### Logical Operator\n",
    "1. and\n",
    "2. or\n",
    "3. not\n",
    "\n",
    "| Operator | Name                 | Description                                                                               |\n",
    "|----------|----------------------|-------------------------------------------------------------------------------------------|\n",
    "| &        | AND                  | Sets each bit to 1 if both bits are 1                                                     |\n",
    "| \\|       | OR                   | Sets each bit to 1 if one of two bits is 1                                                |\n",
    "|  ^       | XOR                  | Sets each bit to 1 if only one of two bits is 1                                           |\n",
    "| ~        | NOT                  | Inverts all the bits                                                                      |\n",
    "| <<       | Zero fill left shift | Shift left by pushing zeros in from the right and let the leftmost bits fall off          |\n",
    "| >>       | Signed right shift   | Shift right by pushing copies of the leftmost bit in from the left, and let the           rightmost bits fall off                                                                |\n",
    "\n"
   ]
  },
  {
   "cell_type": "code",
   "execution_count": 1,
   "id": "f84ae18e",
   "metadata": {},
   "outputs": [
    {
     "name": "stdout",
     "output_type": "stream",
     "text": [
      "7\n",
      "-1\n",
      "0.75\n",
      "12\n",
      "81\n",
      "21\n"
     ]
    }
   ],
   "source": [
    "print(3+4)\n",
    "print(3-4)\n",
    "print(3/4)\n",
    "print(3*4)\n",
    "print(3**4)\n",
    "print(3*(3+4))"
   ]
  },
  {
   "cell_type": "markdown",
   "id": "e1ad6b58",
   "metadata": {},
   "source": [
    "## Boolean"
   ]
  },
  {
   "cell_type": "code",
   "execution_count": 2,
   "id": "2e9dbcef",
   "metadata": {},
   "outputs": [
    {
     "data": {
      "text/plain": [
       "False"
      ]
     },
     "execution_count": 2,
     "metadata": {},
     "output_type": "execute_result"
    }
   ],
   "source": [
    "3 == 4"
   ]
  },
  {
   "cell_type": "code",
   "execution_count": 3,
   "id": "331488da",
   "metadata": {},
   "outputs": [
    {
     "data": {
      "text/plain": [
       "True"
      ]
     },
     "execution_count": 3,
     "metadata": {},
     "output_type": "execute_result"
    }
   ],
   "source": [
    "3 != 4"
   ]
  },
  {
   "cell_type": "code",
   "execution_count": 4,
   "id": "d40d0742",
   "metadata": {},
   "outputs": [
    {
     "data": {
      "text/plain": [
       "True"
      ]
     },
     "execution_count": 4,
     "metadata": {},
     "output_type": "execute_result"
    }
   ],
   "source": [
    "3 < 4"
   ]
  },
  {
   "cell_type": "code",
   "execution_count": 5,
   "id": "9ddb887b",
   "metadata": {},
   "outputs": [
    {
     "data": {
      "text/plain": [
       "True"
      ]
     },
     "execution_count": 5,
     "metadata": {},
     "output_type": "execute_result"
    }
   ],
   "source": [
    "3 <= 4"
   ]
  },
  {
   "cell_type": "code",
   "execution_count": 6,
   "id": "83b93fc5",
   "metadata": {},
   "outputs": [
    {
     "data": {
      "text/plain": [
       "True"
      ]
     },
     "execution_count": 6,
     "metadata": {},
     "output_type": "execute_result"
    }
   ],
   "source": [
    "# In VBA, 10 < 12 and 12 < 17\n",
    "10 < 12 < 17"
   ]
  },
  {
   "cell_type": "code",
   "execution_count": 7,
   "id": "e5eaa54e",
   "metadata": {},
   "outputs": [
    {
     "data": {
      "text/plain": [
       "False"
      ]
     },
     "execution_count": 7,
     "metadata": {},
     "output_type": "execute_result"
    }
   ],
   "source": [
    "not True"
   ]
  },
  {
   "cell_type": "code",
   "execution_count": null,
   "id": "974aee2e",
   "metadata": {},
   "outputs": [],
   "source": []
  },
  {
   "cell_type": "code",
   "execution_count": null,
   "id": "92904652",
   "metadata": {},
   "outputs": [],
   "source": []
  }
 ],
 "metadata": {
  "kernelspec": {
   "display_name": "Python 3 (ipykernel)",
   "language": "python",
   "name": "python3"
  },
  "language_info": {
   "codemirror_mode": {
    "name": "ipython",
    "version": 3
   },
   "file_extension": ".py",
   "mimetype": "text/x-python",
   "name": "python",
   "nbconvert_exporter": "python",
   "pygments_lexer": "ipython3",
   "version": "3.10.0"
  }
 },
 "nbformat": 4,
 "nbformat_minor": 5
}
