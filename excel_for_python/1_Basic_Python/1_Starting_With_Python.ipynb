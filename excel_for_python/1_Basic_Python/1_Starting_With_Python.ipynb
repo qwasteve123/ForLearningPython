{
 "cells": [
  {
   "cell_type": "markdown",
   "id": "432915ab",
   "metadata": {},
   "source": [
    "## Numeric Type\n",
    "1. int - Integer ---4\n",
    "2. float - with decimal ---4.4"
   ]
  },
  {
   "cell_type": "code",
   "execution_count": 2,
   "id": "3968a316",
   "metadata": {},
   "outputs": [
    {
     "data": {
      "text/plain": [
       "int"
      ]
     },
     "execution_count": 2,
     "metadata": {},
     "output_type": "execute_result"
    }
   ],
   "source": [
    "type(4)"
   ]
  },
  {
   "cell_type": "code",
   "execution_count": 3,
   "id": "752ebce6",
   "metadata": {},
   "outputs": [
    {
     "data": {
      "text/plain": [
       "float"
      ]
     },
     "execution_count": 3,
     "metadata": {},
     "output_type": "execute_result"
    }
   ],
   "source": [
    "type(4.4)"
   ]
  },
  {
   "cell_type": "code",
   "execution_count": 5,
   "id": "398f749d",
   "metadata": {},
   "outputs": [
    {
     "data": {
      "text/plain": [
       "float"
      ]
     },
     "execution_count": 5,
     "metadata": {},
     "output_type": "execute_result"
    }
   ],
   "source": [
    "type(4.)"
   ]
  },
  {
   "cell_type": "code",
   "execution_count": 6,
   "id": "43f3a5ab",
   "metadata": {},
   "outputs": [
    {
     "data": {
      "text/plain": [
       "4"
      ]
     },
     "execution_count": 6,
     "metadata": {},
     "output_type": "execute_result"
    }
   ],
   "source": [
    "int(4.9)"
   ]
  },
  {
   "cell_type": "code",
   "execution_count": 7,
   "id": "e571053c",
   "metadata": {},
   "outputs": [
    {
     "data": {
      "text/plain": [
       "4.0"
      ]
     },
     "execution_count": 7,
     "metadata": {},
     "output_type": "execute_result"
    }
   ],
   "source": [
    "float(4)"
   ]
  },
  {
   "cell_type": "markdown",
   "id": "2157a91d",
   "metadata": {},
   "source": [
    "## Operator\n",
    "### Arithmetric Operators\n",
    "1. add --- +\n",
    "2. subtract --- -\n",
    "3. multiply --- *\n",
    "4. divide --- /\n",
    "5. power --- **\n",
    "6. modulus --- %\n",
    "7. floor division --- //\n",
    "\n",
    "### Assignment Operators\n",
    "1. equal --- =\n",
    "2. increment --- += / -= / *= / /= / %= / //= / **= / &= / |= / ^= / >>= / <<=\n",
    "\n",
    "### Identity Operators\n",
    "1. is / is not\n",
    "\n",
    "### Membership Operators\n",
    "1. in/ not in\n",
    "\n",
    "### Logical Operator\n",
    "1. and\n",
    "2. or\n",
    "3. not\n",
    "\n",
    "| Operator | Name                 | Description                                                                               |\n",
    "|----------|----------------------|-------------------------------------------------------------------------------------------|\n",
    "| &        | AND                  | Sets each bit to 1 if both bits are 1                                                     |\n",
    "| \\|       | OR                   | Sets each bit to 1 if one of two bits is 1                                                |\n",
    "|  ^       | XOR                  | Sets each bit to 1 if only one of two bits is 1                                           |\n",
    "| ~        | NOT                  | Inverts all the bits                                                                      |\n",
    "| <<       | Zero fill left shift | Shift left by pushing zeros in from the right and let the leftmost bits fall off          |\n",
    "| >>       | Signed right shift   | Shift right by pushing copies of the leftmost bit in from the left, and let the           rightmost bits fall off                                                                |\n",
    "\n"
   ]
  },
  {
   "cell_type": "code",
   "execution_count": 1,
   "id": "f84ae18e",
   "metadata": {},
   "outputs": [
    {
     "name": "stdout",
     "output_type": "stream",
     "text": [
      "7\n",
      "-1\n",
      "0.75\n",
      "12\n",
      "81\n",
      "21\n"
     ]
    }
   ],
   "source": [
    "print(3+4)\n",
    "print(3-4)\n",
    "print(3/4)\n",
    "print(3*4)\n",
    "print(3**4)\n",
    "print(3*(3+4))"
   ]
  },
  {
   "cell_type": "markdown",
   "id": "34f81ced",
   "metadata": {},
   "source": [
    "## Boolean"
   ]
  },
  {
   "cell_type": "code",
   "execution_count": 2,
   "id": "fa55b40c",
   "metadata": {},
   "outputs": [
    {
     "data": {
      "text/plain": [
       "False"
      ]
     },
     "execution_count": 2,
     "metadata": {},
     "output_type": "execute_result"
    }
   ],
   "source": [
    "3 == 4"
   ]
  },
  {
   "cell_type": "code",
   "execution_count": 3,
   "id": "e23833b5",
   "metadata": {},
   "outputs": [
    {
     "data": {
      "text/plain": [
       "True"
      ]
     },
     "execution_count": 3,
     "metadata": {},
     "output_type": "execute_result"
    }
   ],
   "source": [
    "3 != 4"
   ]
  },
  {
   "cell_type": "code",
   "execution_count": 4,
   "id": "d06d74f3",
   "metadata": {},
   "outputs": [
    {
     "data": {
      "text/plain": [
       "True"
      ]
     },
     "execution_count": 4,
     "metadata": {},
     "output_type": "execute_result"
    }
   ],
   "source": [
    "3 < 4"
   ]
  },
  {
   "cell_type": "code",
   "execution_count": 5,
   "id": "9ed0f138",
   "metadata": {},
   "outputs": [
    {
     "data": {
      "text/plain": [
       "True"
      ]
     },
     "execution_count": 5,
     "metadata": {},
     "output_type": "execute_result"
    }
   ],
   "source": [
    "3 <= 4"
   ]
  },
  {
   "cell_type": "code",
   "execution_count": 6,
   "id": "6cf70cfd",
   "metadata": {},
   "outputs": [
    {
     "data": {
      "text/plain": [
       "True"
      ]
     },
     "execution_count": 6,
     "metadata": {},
     "output_type": "execute_result"
    }
   ],
   "source": [
    "# In VBA, 10 < 12 and 12 < 17\n",
    "10 < 12 < 17"
   ]
  },
  {
   "cell_type": "code",
   "execution_count": 7,
   "id": "1663961a",
   "metadata": {},
   "outputs": [
    {
     "data": {
      "text/plain": [
       "False"
      ]
     },
     "execution_count": 7,
     "metadata": {},
     "output_type": "execute_result"
    }
   ],
   "source": [
    "not True"
   ]
  },
  {
   "cell_type": "code",
   "execution_count": 8,
   "id": "86fe67d7",
   "metadata": {},
   "outputs": [
    {
     "data": {
      "text/plain": [
       "False"
      ]
     },
     "execution_count": 8,
     "metadata": {},
     "output_type": "execute_result"
    }
   ],
   "source": [
    "False and True"
   ]
  },
  {
   "cell_type": "code",
   "execution_count": 11,
   "id": "d929b8de",
   "metadata": {},
   "outputs": [
    {
     "data": {
      "text/plain": [
       "True"
      ]
     },
     "execution_count": 11,
     "metadata": {},
     "output_type": "execute_result"
    }
   ],
   "source": [
    "False or True"
   ]
  },
  {
   "cell_type": "markdown",
   "id": "37b79a7e",
   "metadata": {},
   "source": [
    "## How boolean defines True or False "
   ]
  },
  {
   "cell_type": "code",
   "execution_count": 13,
   "id": "76df7f70",
   "metadata": {},
   "outputs": [
    {
     "data": {
      "text/plain": [
       "True"
      ]
     },
     "execution_count": 13,
     "metadata": {},
     "output_type": "execute_result"
    }
   ],
   "source": [
    "bool(2)"
   ]
  },
  {
   "cell_type": "code",
   "execution_count": 14,
   "id": "6111a163",
   "metadata": {},
   "outputs": [
    {
     "data": {
      "text/plain": [
       "False"
      ]
     },
     "execution_count": 14,
     "metadata": {},
     "output_type": "execute_result"
    }
   ],
   "source": [
    "bool(0)"
   ]
  },
  {
   "cell_type": "code",
   "execution_count": 15,
   "id": "9b4539bd",
   "metadata": {},
   "outputs": [
    {
     "data": {
      "text/plain": [
       "True"
      ]
     },
     "execution_count": 15,
     "metadata": {},
     "output_type": "execute_result"
    }
   ],
   "source": [
    "bool('some text')"
   ]
  },
  {
   "cell_type": "code",
   "execution_count": 16,
   "id": "fd7df3b3",
   "metadata": {},
   "outputs": [
    {
     "data": {
      "text/plain": [
       "False"
      ]
     },
     "execution_count": 16,
     "metadata": {},
     "output_type": "execute_result"
    }
   ],
   "source": [
    "bool('')"
   ]
  },
  {
   "cell_type": "code",
   "execution_count": 17,
   "id": "a8dbfa83",
   "metadata": {},
   "outputs": [
    {
     "data": {
      "text/plain": [
       "False"
      ]
     },
     "execution_count": 17,
     "metadata": {},
     "output_type": "execute_result"
    }
   ],
   "source": [
    "bool(None)"
   ]
  },
  {
   "cell_type": "markdown",
   "id": "49c44cde",
   "metadata": {},
   "source": [
    "## String"
   ]
  },
  {
   "cell_type": "code",
   "execution_count": 18,
   "id": "31d0f708",
   "metadata": {},
   "outputs": [
    {
     "data": {
      "text/plain": [
       "'hihi'"
      ]
     },
     "execution_count": 18,
     "metadata": {},
     "output_type": "execute_result"
    }
   ],
   "source": [
    "'hi' + 'hi'"
   ]
  },
  {
   "cell_type": "code",
   "execution_count": 20,
   "id": "86252833",
   "metadata": {},
   "outputs": [
    {
     "name": "stdout",
     "output_type": "stream",
     "text": [
      "Don't wait! Learn how to \"speak\" python.\n"
     ]
    }
   ],
   "source": [
    "print(\"Don't wait! \" +'Learn how to \"speak\" python.')"
   ]
  },
  {
   "cell_type": "code",
   "execution_count": null,
   "id": "fe30816f",
   "metadata": {},
   "outputs": [],
   "source": []
  }
 ],
 "metadata": {
  "kernelspec": {
   "display_name": "Python 3 (ipykernel)",
   "language": "python",
   "name": "python3"
  },
  "language_info": {
   "codemirror_mode": {
    "name": "ipython",
    "version": 3
   },
   "file_extension": ".py",
   "mimetype": "text/x-python",
   "name": "python",
   "nbconvert_exporter": "python",
   "pygments_lexer": "ipython3",
   "version": "3.10.0"
  }
 },
 "nbformat": 4,
 "nbformat_minor": 5
}
