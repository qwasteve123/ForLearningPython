{
 "cells": [
  {
   "cell_type": "code",
   "execution_count": 1,
   "id": "688decc1",
   "metadata": {},
   "outputs": [],
   "source": [
    "import pandas as pd\n",
    "import openpyxl\n",
    "import excel\n",
    "import datetime as dt"
   ]
  },
  {
   "cell_type": "code",
   "execution_count": 2,
   "id": "dbbfb6be",
   "metadata": {},
   "outputs": [],
   "source": [
    "#Open the workbook to read cell values\n",
    "# The files is automatically closed again adter loading the data\n",
    "book = openpyxl.load_workbook('../xl/stores.xlsx',data_only=True)"
   ]
  },
  {
   "cell_type": "code",
   "execution_count": 3,
   "id": "fe5de786",
   "metadata": {},
   "outputs": [],
   "source": [
    "# Get a worksheet object by name or index (0-based)\n",
    "sheet = book['2019']\n",
    "sheet = book.worksheets[0]"
   ]
  },
  {
   "cell_type": "code",
   "execution_count": 4,
   "id": "82881b49",
   "metadata": {},
   "outputs": [
    {
     "data": {
      "text/plain": [
       "['2019', '2020', '2019-2020']"
      ]
     },
     "execution_count": 4,
     "metadata": {},
     "output_type": "execute_result"
    }
   ],
   "source": [
    "book.sheetnames"
   ]
  },
  {
   "cell_type": "code",
   "execution_count": 5,
   "id": "44c3e6b6",
   "metadata": {},
   "outputs": [
    {
     "name": "stdout",
     "output_type": "stream",
     "text": [
      "2019\n",
      "2020\n",
      "2019-2020\n"
     ]
    }
   ],
   "source": [
    "for i in book.worksheets:\n",
    "    print(i.title)"
   ]
  },
  {
   "cell_type": "code",
   "execution_count": 6,
   "id": "a56c636a",
   "metadata": {},
   "outputs": [
    {
     "data": {
      "text/plain": [
       "(8, 6)"
      ]
     },
     "execution_count": 6,
     "metadata": {},
     "output_type": "execute_result"
    }
   ],
   "source": [
    "#Getting the dimensions,\n",
    "# i.e., the used range of the sheet\n",
    "sheet.max_row, sheet.max_column"
   ]
  },
  {
   "cell_type": "code",
   "execution_count": 7,
   "id": "be06f1db",
   "metadata": {},
   "outputs": [
    {
     "data": {
      "text/plain": [
       "'Boston'"
      ]
     },
     "execution_count": 7,
     "metadata": {},
     "output_type": "execute_result"
    }
   ],
   "source": [
    "# Read the value of a single cell\n",
    "# using 'A1' notation and using cell indices (1-based)\n",
    "sheet['B6'].value\n",
    "sheet.cell(row=6, column=2).value"
   ]
  },
  {
   "cell_type": "code",
   "execution_count": 8,
   "id": "d7c74950",
   "metadata": {
    "scrolled": true
   },
   "outputs": [
    {
     "data": {
      "text/plain": [
       "[['Store', 'Employees', 'Manager', 'Since', 'Flagship'],\n",
       " ['New York', 10, 'Sarah', datetime.datetime(2018, 7, 20, 0, 0), False]]"
      ]
     },
     "execution_count": 8,
     "metadata": {},
     "output_type": "execute_result"
    }
   ],
   "source": [
    "# Read in a range of cell valuesby using our excel module\n",
    "data = excel.read(book['2019'],(2,2),(8,6))\n",
    "data[:2]"
   ]
  },
  {
   "cell_type": "code",
   "execution_count": 9,
   "id": "caca689a",
   "metadata": {},
   "outputs": [],
   "source": [
    "import openpyxl\n",
    "from openpyxl.drawing.image import Image\n",
    "from openpyxl.chart import BarChart, Reference\n",
    "from openpyxl.styles import Font, colors\n",
    "from openpyxl.styles.borders import Border, Side\n",
    "from openpyxl.styles.alignment import Alignment\n",
    "from openpyxl.styles.fills import PatternFill\n",
    "import excel"
   ]
  },
  {
   "cell_type": "code",
   "execution_count": 10,
   "id": "89c81783",
   "metadata": {},
   "outputs": [],
   "source": [
    "# Instantiate a workbook\n",
    "book = openpyxl.Workbook()\n",
    "\n",
    "# Get the first sheet and give it a name\n",
    "sheet = book.active\n",
    "sheet.title = 'Sheet1'\n",
    "\n",
    "# Writing individual cells using A1 notation\n",
    "# and cell indices (1-based)\n",
    "sheet['A1'].value = 'Hello 1'\n",
    "sheet.cell(row=2, column=1, value='Hello 2')\n",
    "\n",
    "#Formatting: fill color, alignment, border and font\n",
    "font_format = Font(color='FF0000', bold=True)\n",
    "thin = Side(border_style='thin', color='FF0000')\n",
    "sheet['A3'].value = 'Hello 3'\n",
    "sheet['A3'].font = font_format\n",
    "sheet['A3'].border = Border(top=thin, left=thin, right=thin, bottom=thin)\n",
    "sheet['A3'].alignment = Alignment(horizontal='center')\n",
    "sheet['A3'].fill = PatternFill(fgColor='FFFF00', fill_type='solid')\n",
    "\n",
    "# Number formatting (using Excel's formatting strings)\n",
    "sheet['A4'].value = 3.3333\n",
    "sheet['A4'].number_format = '0.00'\n",
    "\n",
    "# Date formatting (using Excel's formatting strings)\n",
    "sheet['A5'].value = dt.date(2016,10,13)\n",
    "sheet['A5'].number_format = 'mm/dd/yy'\n",
    "\n",
    "# Formula: you must use the English name of the formula\n",
    "# with commas as delimiters\n",
    "sheet['A6'].value = '=SUM(A4,2)'\n",
    "\n",
    "# Image\n",
    "sheet.add_image(Image('../images/python.png'),'C1')\n",
    "\n",
    "# Two-dimentional list (we're using our excel module)\n",
    "data = [[None, 'North', 'South'],\n",
    "       ['Last Year', 2, 5],\n",
    "       ['This Year', 3, 6]]\n",
    "excel.write(sheet, data, 'A10')\n",
    "\n",
    "# Chart\n",
    "chart = BarChart()\n",
    "chart.type = 'col'\n",
    "chart.title = 'Sales Per Region'\n",
    "chart.x_axis.title = 'Regions'\n",
    "chart.y_axis.title = 'Sales'\n",
    "chart_data = Reference(sheet, min_row=11, min_col=1,\n",
    "                      max_row=12, max_col=3)\n",
    "chart_categories = Reference(sheet, min_row=10, min_col=2,\n",
    "                            max_row=10, max_col=3)\n",
    "# from_rows interprets the data in the same way\n",
    "# as if you would add a chart manually in Excel\n",
    "chart.add_data(chart_data, titles_from_data=True, from_rows=True)\n",
    "chart.set_categories(chart_categories)\n",
    "sheet.add_chart(chart, \"A15\")\n",
    "\n",
    "# Saving the workbook creates the file on disk\n",
    "book.save('openpyxl.xlsx')\n"
   ]
  },
  {
   "cell_type": "code",
   "execution_count": 11,
   "id": "3894a362",
   "metadata": {},
   "outputs": [],
   "source": [
    "book = openpyxl.Workbook()\n",
    "sheet = book.active\n",
    "sheet['A1'].value = 'This is a template'\n",
    "book.template = True\n",
    "book.save('template.xltx')"
   ]
  },
  {
   "cell_type": "code",
   "execution_count": 12,
   "id": "20a55520",
   "metadata": {},
   "outputs": [],
   "source": [
    "# Read the store.xlsx file, change a cell\n",
    "# and store it under a new location/name.\n",
    "book = openpyxl.load_workbook('../xl/stores.xlsx')\n",
    "book['2019']['A1'].value = 'modified'\n",
    "book.save('stores_edited.xlsx')"
   ]
  },
  {
   "cell_type": "code",
   "execution_count": 13,
   "id": "1276cc90",
   "metadata": {},
   "outputs": [],
   "source": [
    "# set keep_vba parameter to True\n",
    "book = openpyxl.load_workbook('../xl/macro.xlsm', keep_vba=True)\n",
    "book['Sheet1']['A1'].value = 'Click the  button!'\n",
    "book.save('macro_openpyxl.xlsm')"
   ]
  },
  {
   "cell_type": "markdown",
   "id": "2bef3049",
   "metadata": {},
   "source": [
    "### XlsxWriter "
   ]
  },
  {
   "cell_type": "code",
   "execution_count": 14,
   "id": "71fbac2e",
   "metadata": {},
   "outputs": [],
   "source": [
    "import datetime\n",
    "import xlsxwriter\n",
    "import excel"
   ]
  },
  {
   "cell_type": "code",
   "execution_count": 15,
   "id": "cf1b89a5",
   "metadata": {},
   "outputs": [
    {
     "name": "stderr",
     "output_type": "stream",
     "text": [
      "C:\\Users\\Samsung\\Desktop\\General\\Projects\\Python learning\\py_venv\\lib\\site-packages\\xlsxwriter\\chart.py:125: UserWarning: Must specify 'values' in add_series()\n",
      "  warn(\"Must specify 'values' in add_series()\")\n"
     ]
    }
   ],
   "source": [
    "# Instantiate a workbook\n",
    "book = xlsxwriter.Workbook('xlsxwriter.xlsx')\n",
    "\n",
    "# Add a sheet and give it a name\n",
    "sheet = book.add_worksheet('Sheet1')\n",
    "\n",
    "# Writing individual cells using A1 notation\n",
    "# and cell indices (0-based)\n",
    "sheet.write('A1','Hello 1')\n",
    "sheet.write(1,0,'Hello 2')\n",
    "\n",
    "# Formatting: fill color, alignment, border and font\n",
    "formatting = book.add_format({'font_color':'#FF0000',\n",
    "                             'bg_color': '#FFFF00',\n",
    "                             'bold': True, 'align': 'center',\n",
    "                             'border': 1, 'border_color': '#FF0000'})\n",
    "sheet.write('A1','Hello 3', formatting)\n",
    "\n",
    "#Number formatting (using Excel's formatting strings)\n",
    "number_format = book.add_format({'num_format':'0,00'})\n",
    "sheet.write('A4',3.3333, number_format)\n",
    "\n",
    "#Date formatting (using Excel's formatting strings)\n",
    "date_format = book.add_format({'num_format':'mm/dd/yy'})\n",
    "sheet.write('A5', dt.date(2016,10,13), date_format)\n",
    "\n",
    "# Formula: you must use the English name of the formula\n",
    "# with commas as delimiters\n",
    "sheet.write('A6','=SUM(A4,2)')\n",
    "\n",
    "# Image\n",
    "sheet.insert_image(0,2,'../images/python.png')\n",
    "\n",
    "# Two-dimensional list (we're using our excel module)\n",
    "data = [[None, 'North', 'South'],\n",
    "        ['Last Year', 2, 5],\n",
    "        ['This Year', 3, 6]]\n",
    "excel.write(sheet, data,'A10')\n",
    "#(sheet, data, 'A10')\n",
    "# Chart: see the file 'sales_report_xlsxwriter.py' in the companion repo to see\n",
    "# how you can work with indices instead of cell addresses\n",
    "chart = book.add_chart({'type':'column'})\n",
    "chart.add_series({'name': 'Sales per Region'})\n",
    "chart.add_series({'name': '=Sheet1!A11',\n",
    "                  'categories': '=Sheet1!B10:C10',\n",
    "                  'values': '=Sheet1!B11:C11'})\n",
    "chart.add_series({'name': '=Sheet1!A12',\n",
    "                  'categories': '=Sheet1!B10:C10',\n",
    "                  'values': '=Sheet1!B12:C12'})\n",
    "chart.set_x_axis({'name': 'Regions'})\n",
    "chart.set_y_axis({'name': 'Sales'})\n",
    "sheet.insert_chart('A15', chart)\n",
    "\n",
    "book.close()\n"
   ]
  },
  {
   "cell_type": "code",
   "execution_count": 16,
   "id": "aa035284",
   "metadata": {},
   "outputs": [
    {
     "name": "stderr",
     "output_type": "stream",
     "text": [
      "C:\\Users\\Samsung\\Desktop\\General\\Projects\\Python learning\\py_venv\\lib\\site-packages\\xlsxwriter\\workbook.py:301: UserWarning: VBA project binary file 'xl/vbaProject.bin' not found.\n",
      "  warn(\"VBA project binary file '%s' not found.\" % vba_project)\n"
     ]
    }
   ],
   "source": [
    "# cd folder_path\n",
    "# where vba_extract.py\n",
    "#..../vba_extract.py macro.xlsm\n",
    "\n",
    "book = xlsxwriter.Workbook('macro_xlsxwriter.xlsm')\n",
    "sheet = book.add_worksheet('Sheet1')\n",
    "sheet.write('A1','Click the button!')\n",
    "book.add_vba_project('xl/vbaProject.bin')\n",
    "sheet.insert_button('A3',{'macro':'Hello','caption':'Button 1',\n",
    "                          'width':130, 'height':35})\n",
    "book.close()"
   ]
  },
  {
   "cell_type": "code",
   "execution_count": 17,
   "id": "8c630a75",
   "metadata": {},
   "outputs": [],
   "source": [
    "import pyxlsb\n",
    "import excel"
   ]
  },
  {
   "cell_type": "code",
   "execution_count": 18,
   "id": "324fd983",
   "metadata": {},
   "outputs": [
    {
     "name": "stdout",
     "output_type": "stream",
     "text": [
      "Sheet '2019' has 7 rows and 5 cols\n",
      "Sheet '2020' has 7 rows and 5 cols\n",
      "Sheet '2019-2020' has 20 rows and 5 cols\n"
     ]
    }
   ],
   "source": [
    "# Loop through sheets. With pyxlsb, the workbook\n",
    "# and sheet objects can be used as context managers\n",
    "# book.sheets returns a list of sheet names, not objects!\n",
    "# To get a sheet object, use get_sheet() instead.\n",
    "with pyxlsb.open_workbook('../xl/stores.xlsb') as book:\n",
    "    for sheet_name in book.sheets:\n",
    "        with book.get_sheet(sheet_name) as sheet:\n",
    "            dim = sheet.dimension\n",
    "            print(f\"Sheet '{sheet_name}' has \"\n",
    "                  f\"{dim.h} rows and {dim.w} cols\")"
   ]
  },
  {
   "cell_type": "code",
   "execution_count": 19,
   "id": "874e3b28",
   "metadata": {},
   "outputs": [
    {
     "data": {
      "text/plain": [
       "[['Store', 'Employees', 'Manager', 'Since', 'Flagship'],\n",
       " ['New York', 10.0, 'Sarah', 43301.0, False]]"
      ]
     },
     "execution_count": 19,
     "metadata": {},
     "output_type": "execute_result"
    }
   ],
   "source": [
    "# Read in the values of a range of cells by using our excel module\n",
    "# Instead of '2019', you could also use its index (1-based).\n",
    "with pyxlsb.open_workbook('../xl/stores.xlsb') as book:\n",
    "    with book.get_sheet('2019') as sheet:\n",
    "        data = excel.read(sheet,'B2')\n",
    "data[:2]"
   ]
  },
  {
   "cell_type": "code",
   "execution_count": 20,
   "id": "b2e3f44b",
   "metadata": {},
   "outputs": [
    {
     "data": {
      "text/plain": [
       "datetime.datetime(2018, 7, 20, 0, 0)"
      ]
     },
     "execution_count": 20,
     "metadata": {},
     "output_type": "execute_result"
    }
   ],
   "source": [
    "from pyxlsb import convert_date\n",
    "convert_date(data[1][3])"
   ]
  },
  {
   "cell_type": "code",
   "execution_count": 21,
   "id": "0789979f",
   "metadata": {},
   "outputs": [
    {
     "data": {
      "text/html": [
       "<div>\n",
       "<style scoped>\n",
       "    .dataframe tbody tr th:only-of-type {\n",
       "        vertical-align: middle;\n",
       "    }\n",
       "\n",
       "    .dataframe tbody tr th {\n",
       "        vertical-align: top;\n",
       "    }\n",
       "\n",
       "    .dataframe thead th {\n",
       "        text-align: right;\n",
       "    }\n",
       "</style>\n",
       "<table border=\"1\" class=\"dataframe\">\n",
       "  <thead>\n",
       "    <tr style=\"text-align: right;\">\n",
       "      <th></th>\n",
       "      <th>Unnamed: 0</th>\n",
       "      <th>Unnamed: 1</th>\n",
       "      <th>Unnamed: 2</th>\n",
       "      <th>Unnamed: 3</th>\n",
       "      <th>Unnamed: 4</th>\n",
       "      <th>Unnamed: 5</th>\n",
       "    </tr>\n",
       "  </thead>\n",
       "  <tbody>\n",
       "    <tr>\n",
       "      <th>0</th>\n",
       "      <td>NaN</td>\n",
       "      <td>Store</td>\n",
       "      <td>Employees</td>\n",
       "      <td>Manager</td>\n",
       "      <td>Since</td>\n",
       "      <td>Flagship</td>\n",
       "    </tr>\n",
       "    <tr>\n",
       "      <th>1</th>\n",
       "      <td>NaN</td>\n",
       "      <td>New York</td>\n",
       "      <td>10</td>\n",
       "      <td>Sarah</td>\n",
       "      <td>43301</td>\n",
       "      <td>False</td>\n",
       "    </tr>\n",
       "    <tr>\n",
       "      <th>2</th>\n",
       "      <td>NaN</td>\n",
       "      <td>San Francisco</td>\n",
       "      <td>12</td>\n",
       "      <td>Neriah</td>\n",
       "      <td>43771</td>\n",
       "      <td>MISSING</td>\n",
       "    </tr>\n",
       "    <tr>\n",
       "      <th>3</th>\n",
       "      <td>NaN</td>\n",
       "      <td>Chicago</td>\n",
       "      <td>4</td>\n",
       "      <td>Katelin</td>\n",
       "      <td>43861</td>\n",
       "      <td>NaN</td>\n",
       "    </tr>\n",
       "    <tr>\n",
       "      <th>4</th>\n",
       "      <td>NaN</td>\n",
       "      <td>Boston</td>\n",
       "      <td>5</td>\n",
       "      <td>Georgiana</td>\n",
       "      <td>42826</td>\n",
       "      <td>True</td>\n",
       "    </tr>\n",
       "    <tr>\n",
       "      <th>5</th>\n",
       "      <td>NaN</td>\n",
       "      <td>Washington DC</td>\n",
       "      <td>3</td>\n",
       "      <td>Evan</td>\n",
       "      <td>NaN</td>\n",
       "      <td>False</td>\n",
       "    </tr>\n",
       "    <tr>\n",
       "      <th>6</th>\n",
       "      <td>NaN</td>\n",
       "      <td>Las Vegas</td>\n",
       "      <td>11</td>\n",
       "      <td>Paul</td>\n",
       "      <td>43836</td>\n",
       "      <td>False</td>\n",
       "    </tr>\n",
       "  </tbody>\n",
       "</table>\n",
       "</div>"
      ],
      "text/plain": [
       "   Unnamed: 0     Unnamed: 1 Unnamed: 2 Unnamed: 3 Unnamed: 4 Unnamed: 5\n",
       "0         NaN          Store  Employees    Manager      Since   Flagship\n",
       "1         NaN       New York         10      Sarah      43301      False\n",
       "2         NaN  San Francisco         12     Neriah      43771    MISSING\n",
       "3         NaN        Chicago          4    Katelin      43861        NaN\n",
       "4         NaN         Boston          5  Georgiana      42826       True\n",
       "5         NaN  Washington DC          3       Evan        NaN      False\n",
       "6         NaN      Las Vegas         11       Paul      43836      False"
      ]
     },
     "execution_count": 21,
     "metadata": {},
     "output_type": "execute_result"
    }
   ],
   "source": [
    "df = pd.read_excel('../xl/stores.xlsb', engine='pyxlsb')\n",
    "df"
   ]
  },
  {
   "cell_type": "code",
   "execution_count": 22,
   "id": "eeeab41e",
   "metadata": {},
   "outputs": [],
   "source": [
    "import xlrd\n",
    "import xlwt\n",
    "from xlwt.Utils import cell_to_rowcol2\n",
    "import xlutils\n",
    "import excel"
   ]
  },
  {
   "cell_type": "code",
   "execution_count": 23,
   "id": "f269b3b3",
   "metadata": {},
   "outputs": [],
   "source": [
    "# Opening the workbook to read cell values. the files is\n",
    "# atuomatically closed again after loading the data.\n",
    "book = xlrd.open_workbook('../xl/stores.xls')"
   ]
  },
  {
   "cell_type": "code",
   "execution_count": 24,
   "id": "58cd7b37",
   "metadata": {},
   "outputs": [
    {
     "data": {
      "text/plain": [
       "['2019', '2020', '2019-2020']"
      ]
     },
     "execution_count": 24,
     "metadata": {},
     "output_type": "execute_result"
    }
   ],
   "source": [
    "book.sheet_names()"
   ]
  },
  {
   "cell_type": "code",
   "execution_count": 25,
   "id": "95c95ca1",
   "metadata": {},
   "outputs": [
    {
     "name": "stdout",
     "output_type": "stream",
     "text": [
      "2019\n",
      "2020\n",
      "2019-2020\n"
     ]
    }
   ],
   "source": [
    "for sheet in book.sheets():\n",
    "    print(sheet.name)"
   ]
  },
  {
   "cell_type": "code",
   "execution_count": 26,
   "id": "3a7eff33",
   "metadata": {},
   "outputs": [],
   "source": [
    "#Get a sheet object by name or index(0-based)\n",
    "sheet = book.sheet_by_index(0)\n",
    "sheet = book.sheet_by_name('2019')"
   ]
  },
  {
   "cell_type": "code",
   "execution_count": 27,
   "id": "7085161f",
   "metadata": {},
   "outputs": [
    {
     "data": {
      "text/plain": [
       "(8, 6)"
      ]
     },
     "execution_count": 27,
     "metadata": {},
     "output_type": "execute_result"
    }
   ],
   "source": [
    "# Dimensions\n",
    "sheet.nrows, sheet.ncols"
   ]
  },
  {
   "cell_type": "code",
   "execution_count": 28,
   "id": "a7c3a770",
   "metadata": {},
   "outputs": [
    {
     "data": {
      "text/plain": [
       "'New York'"
      ]
     },
     "execution_count": 28,
     "metadata": {},
     "output_type": "execute_result"
    }
   ],
   "source": [
    "# Read the value of a single cell\n",
    "# using 'A1' notation and using cell indices (0-based).\n",
    "# The '*' unpacks the tuple that cell_to_rowcol2 returns\n",
    "# into individual arguments.\n",
    "sheet.cell(*cell_to_rowcol2('B3')).value\n",
    "sheet.cell(2,1).value"
   ]
  },
  {
   "cell_type": "code",
   "execution_count": 29,
   "id": "633e6210",
   "metadata": {},
   "outputs": [
    {
     "data": {
      "text/plain": [
       "[['Store', 'Employees', 'Manager', 'Since', 'Flagship'],\n",
       " ['New York', 10.0, 'Sarah', datetime.datetime(2018, 7, 20, 0, 0), False]]"
      ]
     },
     "execution_count": 29,
     "metadata": {},
     "output_type": "execute_result"
    }
   ],
   "source": [
    "# Read in a range of cell values by using our excel module\n",
    "data = excel.read(sheet, 'B2')\n",
    "data[:2] # Print the first two rows"
   ]
  },
  {
   "cell_type": "code",
   "execution_count": 30,
   "id": "ea23c591",
   "metadata": {},
   "outputs": [],
   "source": [
    "import xlwt\n",
    "from xlwt.Utils import cell_to_rowcol2\n",
    "import datetime as dt\n",
    "import excel"
   ]
  },
  {
   "cell_type": "code",
   "execution_count": 31,
   "id": "ba26ae28",
   "metadata": {},
   "outputs": [],
   "source": [
    "# Instantisate a workbook\n",
    "book = xlwt.Workbook()\n",
    "\n",
    "# Add a sheet and give it a name\n",
    "sheet = book.add_sheet('Sheet1')\n",
    "\n",
    "# Writing individual cells using A1 notation\n",
    "# and cell indices (0-based)\n",
    "sheet.write(*cell_to_rowcol2('A1'), 'Hello 1')\n",
    "sheet.write(r=1, c=0, label='Hello 1')\n",
    "\n",
    "# Formatting: fill color, alignment, border and font\n",
    "formatting = xlwt.easyxf('font: bold on, color red;'\n",
    "                         'align: horiz center;'\n",
    "                         'borders: top_color red, bottom_color red,'\n",
    "                                 'right_color red, left_color red,'\n",
    "                                 'left thin, right thin,'\n",
    "                                 'top thin, bottom thin;'\n",
    "                          'pattern: pattern solid, fore_color yellow;')\n",
    "sheet.write(r=2, c=0, label='Hello 3',style=formatting)\n",
    "\n",
    "# Number formatting (using Excel's formatting strings)\n",
    "number_format = xlwt.easyxf(num_format_str='0.00')\n",
    "sheet.write(3, 0, 3.3333, number_format)\n",
    "\n",
    "# Date formatting (using Excel's formatting strings)\n",
    "date_format = xlwt.easyxf(num_format_str='mm/dd/yyyy')\n",
    "sheet.write(4,0,dt.datetime(2012,2,3), date_format)\n",
    "\n",
    "# Formula: you want use the English name of the formula\n",
    "# with commas as delimiters\n",
    "sheet.write(5,0,xlwt.Formula('SUM(A4, 2)'))\n",
    "\n",
    "# Two-dimensional list (we're using our excel module)\n",
    "data = [[None, 'North', 'South'],\n",
    "        ['Last Year', 2, 5],\n",
    "        ['This Year', 3, 6]]\n",
    "excel.write(sheet,data,'A10')\n",
    "\n",
    "# Picture (only allows to add bmp format)\n",
    "sheet.insert_bitmap('../images/python.bmp', 0, 2)\n",
    "\n",
    "# This writes the file to disk\n",
    "book.save('xlwt.xls')"
   ]
  },
  {
   "cell_type": "code",
   "execution_count": 32,
   "id": "eb31c1d6",
   "metadata": {},
   "outputs": [],
   "source": [
    "import xlutils.copy"
   ]
  },
  {
   "cell_type": "code",
   "execution_count": 33,
   "id": "2f8bd598",
   "metadata": {},
   "outputs": [],
   "source": [
    "book = xlrd.open_workbook('../xl/stores.xls',formatting_info=True)\n",
    "book = xlutils.copy.copy(book)\n",
    "book.get_sheet(0).write(0,0, 'changed!')\n",
    "book.save('stores_edited.xls')"
   ]
  },
  {
   "cell_type": "markdown",
   "id": "68cde294",
   "metadata": {},
   "source": [
    "### Writing with XlsxWriter"
   ]
  },
  {
   "cell_type": "code",
   "execution_count": 34,
   "id": "dbc8301d",
   "metadata": {},
   "outputs": [],
   "source": [
    "book = xlsxwriter.Workbook('xlsxwriter_optimized.xlsx',\n",
    "                           options={'constant_memory': True})\n",
    "sheet = book.add_worksheet()\n",
    "# This will produce a sheet with 1000 x 200 cells\n",
    "for row in  range(1000):\n",
    "    sheet.write_row(row, 0, list(range(200)))\n",
    "book.close()"
   ]
  },
  {
   "cell_type": "code",
   "execution_count": 35,
   "id": "065fafc3",
   "metadata": {},
   "outputs": [],
   "source": [
    "with xlrd.open_workbook('../xl/stores.xls', on_demand=True) as book:\n",
    "    sheet = book.sheet_by_index(0) # only loads the first sheet"
   ]
  },
  {
   "cell_type": "code",
   "execution_count": 36,
   "id": "cc79a8fe",
   "metadata": {},
   "outputs": [],
   "source": [
    "with xlrd.open_workbook('../xl/stores.xls', on_demand= True) as book:\n",
    "    with pd.ExcelFile(book, engine='xlrd') as f:\n",
    "        df = pd.read_excel(f, sheet_name=0)"
   ]
  },
  {
   "cell_type": "code",
   "execution_count": 37,
   "id": "b17c66b2",
   "metadata": {},
   "outputs": [],
   "source": [
    "book = openpyxl.load_workbook('../xl/big.xlsx',\n",
    "                              data_only= True, read_only=True,\n",
    "                              keep_links=False)\n",
    "# Perform the desired read operations here\n",
    "book.close()"
   ]
  },
  {
   "cell_type": "markdown",
   "id": "35107972",
   "metadata": {},
   "source": [
    "### Reading sheets in parallel "
   ]
  },
  {
   "cell_type": "code",
   "execution_count": 41,
   "id": "da1e1803",
   "metadata": {},
   "outputs": [
    {
     "name": "stdout",
     "output_type": "stream",
     "text": [
      "CPU times: total: 35 s\n",
      "Wall time: 35.5 s\n"
     ]
    }
   ],
   "source": [
    "%%time\n",
    "data = pd.read_excel(\"../xl/big.xlsx\", sheet_name=None, engine='openpyxl')"
   ]
  },
  {
   "cell_type": "code",
   "execution_count": 42,
   "id": "32c86435",
   "metadata": {},
   "outputs": [
    {
     "name": "stdout",
     "output_type": "stream",
     "text": [
      "CPU times: total: 62.5 ms\n",
      "Wall time: 9.91 s\n"
     ]
    }
   ],
   "source": [
    "%%time\n",
    "import parallel_pandas\n",
    "data = parallel_pandas.read_excel('../xl/big.xlsx',sheet_name=None)"
   ]
  },
  {
   "cell_type": "markdown",
   "id": "054737e6",
   "metadata": {},
   "source": [
    "### Formatting DataFrames in Excel"
   ]
  },
  {
   "cell_type": "code",
   "execution_count": 43,
   "id": "84b48743",
   "metadata": {},
   "outputs": [],
   "source": [
    "with pd.ExcelFile('../xl/stores.xlsx',engine='openpyxl') as xlfile:\n",
    "    #Read a DataFrame\n",
    "    df = pd.read_excel(xlfile, sheet_name='2020')\n",
    "    \n",
    "    #Get the OpenPyXl workbook object\n",
    "    book = xlfile.book\n",
    "    \n",
    "    # From here on, it's OpenPyXl code\n",
    "    sheet = book['2019']\n",
    "    value = sheet['B3'].value # Read a single value"
   ]
  },
  {
   "cell_type": "code",
   "execution_count": 44,
   "id": "0b677a96",
   "metadata": {},
   "outputs": [],
   "source": [
    "with pd.ExcelWriter('pandas_and_openpyxl.xlsx',engine='openpyxl') as writer:\n",
    "    df = pd.DataFrame({'col1':[1,2,3,4],'col2':[5,6,7,8]})\n",
    "    # Write a DataFrame\n",
    "    df.to_excel(writer,'Sheet1',startrow=4,startcol=2)\n",
    "    \n",
    "    # Get the OpenPyXl workbook and sheet objects\n",
    "    book = writer.book\n",
    "    sheet = writer.sheets['Sheet1']\n",
    "    \n",
    "    # From here on, it's OpenPyXL code\n",
    "    sheet['A1'].value = 'This is a Title' # Write a single cell value"
   ]
  },
  {
   "cell_type": "markdown",
   "id": "2c813d38",
   "metadata": {},
   "source": [
    "### Formatting a DataFrame's index and headers"
   ]
  },
  {
   "cell_type": "code",
   "execution_count": 48,
   "id": "c98d2e64",
   "metadata": {},
   "outputs": [
    {
     "data": {
      "text/html": [
       "<div>\n",
       "<style scoped>\n",
       "    .dataframe tbody tr th:only-of-type {\n",
       "        vertical-align: middle;\n",
       "    }\n",
       "\n",
       "    .dataframe tbody tr th {\n",
       "        vertical-align: top;\n",
       "    }\n",
       "\n",
       "    .dataframe thead th {\n",
       "        text-align: right;\n",
       "    }\n",
       "</style>\n",
       "<table border=\"1\" class=\"dataframe\">\n",
       "  <thead>\n",
       "    <tr style=\"text-align: right;\">\n",
       "      <th></th>\n",
       "      <th>col</th>\n",
       "      <th>col2</th>\n",
       "    </tr>\n",
       "    <tr>\n",
       "      <th>ix</th>\n",
       "      <th></th>\n",
       "      <th></th>\n",
       "    </tr>\n",
       "  </thead>\n",
       "  <tbody>\n",
       "    <tr>\n",
       "      <th>row1</th>\n",
       "      <td>1</td>\n",
       "      <td>-3</td>\n",
       "    </tr>\n",
       "    <tr>\n",
       "      <th>row2</th>\n",
       "      <td>-2</td>\n",
       "      <td>4</td>\n",
       "    </tr>\n",
       "  </tbody>\n",
       "</table>\n",
       "</div>"
      ],
      "text/plain": [
       "      col  col2\n",
       "ix             \n",
       "row1    1    -3\n",
       "row2   -2     4"
      ]
     },
     "execution_count": 48,
     "metadata": {},
     "output_type": "execute_result"
    }
   ],
   "source": [
    "df = pd.DataFrame({'col':[1,-2], 'col2':[-3,4]},index=['row1','row2'])\n",
    "df.index.name = 'ix'\n",
    "df"
   ]
  },
  {
   "cell_type": "code",
   "execution_count": 49,
   "id": "bb52f4e6",
   "metadata": {},
   "outputs": [],
   "source": [
    "from openpyxl.styles import PatternFill"
   ]
  },
  {
   "cell_type": "code",
   "execution_count": 51,
   "id": "62c7804e",
   "metadata": {},
   "outputs": [],
   "source": [
    "with pd.ExcelWriter('formatting_oepnpyxl.xlsx', engine='openpyxl') as writer:\n",
    "    # Write out the df with the default formatting to A1\n",
    "    df.to_excel(writer, startrow=0, startcol=0)\n",
    "    \n",
    "    # Write out the df with custom index/header formatting to A6\n",
    "    startrow, startcol = 0,5\n",
    "    # 1. Write out the data part of the DataFrame\n",
    "    df.to_excel(writer, header=False, index=False, startrow=startrow+1, startcol=startcol+1)\n",
    "    # Get the sheet object and create a style object\n",
    "    sheet = writer.sheets['Sheet1']\n",
    "    style = PatternFill(fgColor='D9D9D9',fill_type='solid')\n",
    "    \n",
    "    #2. Write out the styled column headers\n",
    "    for i, col in enumerate(df.columns):\n",
    "        sheet.cell(row=startrow +1, column = i + startcol +2,value = col).fill = style\n",
    "    \n",
    "    #3. Write out the styled index\n",
    "    index = [df.index.name if df.index.name else None] + list(df.index)\n",
    "    for i, row in enumerate(index):\n",
    "        sheet.cell(row=i + startrow + 1, column=startcol + 1, value=row).fill = style\n",
    "    "
   ]
  },
  {
   "cell_type": "markdown",
   "id": "3cbecb7c",
   "metadata": {},
   "source": [
    "### Formatting a DataFrame "
   ]
  },
  {
   "cell_type": "code",
   "execution_count": 56,
   "id": "6ed2205a",
   "metadata": {},
   "outputs": [],
   "source": [
    "from openpyxl.styles import Alignment\n"
   ]
  },
  {
   "cell_type": "code",
   "execution_count": 57,
   "id": "13899541",
   "metadata": {},
   "outputs": [],
   "source": [
    "with pd.ExcelWriter('data_format_openpyxl.xlsx',engine='openpyxl') as writer:\n",
    "    # Write out the DataFrame\n",
    "    df.to_excel(writer)\n",
    "    \n",
    "    # Get the book and sheet objects\n",
    "    book = writer.book\n",
    "    sheet = writer.sheets['Sheet1']\n",
    "    \n",
    "    # Formatting individual cells\n",
    "    nrows, ncols = df.shape\n",
    "    for row in range(nrows):\n",
    "        for col in range(ncols):\n",
    "        # +1 to account for the header/ index\n",
    "        # +1 since OpenPyXL is 1-based\n",
    "            cell = sheet.cell(row=row+2,column=col +2)\n",
    "            cell.number_format = '0.000'\n",
    "            cell.alignment = Alignment(horizontal='center')"
   ]
  }
 ],
 "metadata": {
  "kernelspec": {
   "display_name": "Python 3 (ipykernel)",
   "language": "python",
   "name": "python3"
  },
  "language_info": {
   "codemirror_mode": {
    "name": "ipython",
    "version": 3
   },
   "file_extension": ".py",
   "mimetype": "text/x-python",
   "name": "python",
   "nbconvert_exporter": "python",
   "pygments_lexer": "ipython3",
   "version": "3.10.0"
  }
 },
 "nbformat": 4,
 "nbformat_minor": 5
}
